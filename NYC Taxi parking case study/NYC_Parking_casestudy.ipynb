{
 "cells": [
  {
   "cell_type": "markdown",
   "metadata": {},
   "source": [
    "  ##           Case Study:                                  NYC Parking Tickets "
   ]
  },
  {
   "cell_type": "code",
   "execution_count": 1,
   "metadata": {},
   "outputs": [],
   "source": [
    "## Creating a Spark session Object to make use of spark functions"
   ]
  },
  {
   "cell_type": "code",
   "execution_count": 2,
   "metadata": {},
   "outputs": [],
   "source": [
    "from pyspark.sql import SparkSession\n",
    "spark = SparkSession.builder.appName('Spark DF and SQL').getOrCreate()"
   ]
  },
  {
   "cell_type": "code",
   "execution_count": 3,
   "metadata": {},
   "outputs": [],
   "source": [
    "## Creating a dataframe using sparksession object and load requried data into dataframe"
   ]
  },
  {
   "cell_type": "code",
   "execution_count": 94,
   "metadata": {},
   "outputs": [],
   "source": [
    "## loading data into dataframe\n",
    "\n",
    "NYC_park = spark.read.option(\"header\",\"True\").option(\"inferschema\",\"true\")\\\n",
    ".csv('/common_folder/nyc_parking/Parking_Violations_Issued_-_Fiscal_Year_2017.csv')"
   ]
  },
  {
   "cell_type": "code",
   "execution_count": 95,
   "metadata": {},
   "outputs": [],
   "source": [
    "## looking at the data and structure of dataframe"
   ]
  },
  {
   "cell_type": "code",
   "execution_count": 96,
   "metadata": {},
   "outputs": [
    {
     "data": {
      "text/plain": [
       "DataFrame[Summons Number: bigint, Plate ID: string, Registration State: string, Issue Date: timestamp, Violation Code: int, Vehicle Body Type: string, Vehicle Make: string, Violation Precinct: int, Issuer Precinct: int, Violation Time: string]"
      ]
     },
     "execution_count": 96,
     "metadata": {},
     "output_type": "execute_result"
    }
   ],
   "source": [
    "NYC_park"
   ]
  },
  {
   "cell_type": "code",
   "execution_count": 97,
   "metadata": {},
   "outputs": [
    {
     "name": "stdout",
     "output_type": "stream",
     "text": [
      "root\n",
      " |-- Summons Number: long (nullable = true)\n",
      " |-- Plate ID: string (nullable = true)\n",
      " |-- Registration State: string (nullable = true)\n",
      " |-- Issue Date: timestamp (nullable = true)\n",
      " |-- Violation Code: integer (nullable = true)\n",
      " |-- Vehicle Body Type: string (nullable = true)\n",
      " |-- Vehicle Make: string (nullable = true)\n",
      " |-- Violation Precinct: integer (nullable = true)\n",
      " |-- Issuer Precinct: integer (nullable = true)\n",
      " |-- Violation Time: string (nullable = true)\n",
      "\n"
     ]
    }
   ],
   "source": [
    "NYC_park.printSchema()"
   ]
  },
  {
   "cell_type": "code",
   "execution_count": 8,
   "metadata": {},
   "outputs": [
    {
     "data": {
      "text/plain": [
       "10803028"
      ]
     },
     "execution_count": 8,
     "metadata": {},
     "output_type": "execute_result"
    }
   ],
   "source": [
    "# Number of records in dataframe\n",
    "NYC_park.count()"
   ]
  },
  {
   "cell_type": "code",
   "execution_count": 10,
   "metadata": {},
   "outputs": [
    {
     "data": {
      "text/plain": [
       "<bound method DataFrame.describe of DataFrame[Summons Number: bigint, Plate ID: string, Registration State: string, Issue Date: timestamp, Violation Code: int, Vehicle Body Type: string, Vehicle Make: string, Violation Precinct: int, Issuer Precinct: int, Violation Time: string]>"
      ]
     },
     "execution_count": 10,
     "metadata": {},
     "output_type": "execute_result"
    }
   ],
   "source": [
    "NYC_park.describe"
   ]
  },
  {
   "cell_type": "code",
   "execution_count": 11,
   "metadata": {},
   "outputs": [
    {
     "name": "stdout",
     "output_type": "stream",
     "text": [
      "+--------------+--------+------------------+-------------------+--------------+-----------------+------------+------------------+---------------+--------------+\n",
      "|Summons Number|Plate ID|Registration State|         Issue Date|Violation Code|Vehicle Body Type|Vehicle Make|Violation Precinct|Issuer Precinct|Violation Time|\n",
      "+--------------+--------+------------------+-------------------+--------------+-----------------+------------+------------------+---------------+--------------+\n",
      "|    5092469481| GZH7067|                NY|2016-07-10 00:00:00|             7|             SUBN|       TOYOT|                 0|              0|         0143A|\n",
      "|    5092451658| GZH7067|                NY|2016-07-08 00:00:00|             7|             SUBN|       TOYOT|                 0|              0|         0400P|\n",
      "|    4006265037| FZX9232|                NY|2016-08-23 00:00:00|             5|             SUBN|        FORD|                 0|              0|         0233P|\n",
      "|    8478629828| 66623ME|                NY|2017-06-14 00:00:00|            47|             REFG|       MITSU|                14|             14|         1120A|\n",
      "|    7868300310| 37033JV|                NY|2016-11-21 00:00:00|            69|             DELV|       INTER|                13|             13|         0555P|\n",
      "+--------------+--------+------------------+-------------------+--------------+-----------------+------------+------------------+---------------+--------------+\n",
      "only showing top 5 rows\n",
      "\n"
     ]
    }
   ],
   "source": [
    "# checking top 5 rows of dataframe\n",
    "NYC_park.show(5)"
   ]
  },
  {
   "cell_type": "code",
   "execution_count": 9,
   "metadata": {},
   "outputs": [
    {
     "data": {
      "text/plain": [
       "Row(Summons Number=5092469481, Plate ID='GZH7067', Registration State='NY', Issue Date=datetime.datetime(2016, 7, 10, 0, 0), Violation Code=7, Vehicle Body Type='SUBN', Vehicle Make='TOYOT', Violation Precinct=0, Issuer Precinct=0, Violation Time='0143A')"
      ]
     },
     "execution_count": 9,
     "metadata": {},
     "output_type": "execute_result"
    }
   ],
   "source": [
    "NYC_park.head()"
   ]
  },
  {
   "cell_type": "code",
   "execution_count": 12,
   "metadata": {},
   "outputs": [
    {
     "data": {
      "text/plain": [
       "['Summons Number',\n",
       " 'Plate ID',\n",
       " 'Registration State',\n",
       " 'Issue Date',\n",
       " 'Violation Code',\n",
       " 'Vehicle Body Type',\n",
       " 'Vehicle Make',\n",
       " 'Violation Precinct',\n",
       " 'Issuer Precinct',\n",
       " 'Violation Time']"
      ]
     },
     "execution_count": 12,
     "metadata": {},
     "output_type": "execute_result"
    }
   ],
   "source": [
    "NYC_park.columns"
   ]
  },
  {
   "cell_type": "code",
   "execution_count": 13,
   "metadata": {},
   "outputs": [],
   "source": [
    "# Mentioned in case study that For the scope of this analysis, we will analyse the parking tickets over the year 2017. \n",
    "# so we will check the issue date column whether it have any data other than 2017.\n",
    "\n",
    "# I am considering the data with the issue year of 2017 only."
   ]
  },
  {
   "cell_type": "code",
   "execution_count": 99,
   "metadata": {},
   "outputs": [
    {
     "name": "stdout",
     "output_type": "stream",
     "text": [
      "+----------------+-------+\n",
      "|year(Issue Date)|  count|\n",
      "+----------------+-------+\n",
      "|            2017|5431918|\n",
      "|            2016|5368391|\n",
      "|            2018|   1057|\n",
      "|            2019|    472|\n",
      "|            2015|    419|\n",
      "|            2000|    185|\n",
      "|            2014|    120|\n",
      "|            2012|     87|\n",
      "|            2013|     70|\n",
      "|            2027|     50|\n",
      "|            2010|     48|\n",
      "|            2026|     24|\n",
      "|            2020|     22|\n",
      "|            2021|     22|\n",
      "|            2011|     22|\n",
      "|            2007|     18|\n",
      "|            2030|     12|\n",
      "|            2006|      8|\n",
      "|            2028|      8|\n",
      "|            2025|      6|\n",
      "+----------------+-------+\n",
      "only showing top 20 rows\n",
      "\n"
     ]
    }
   ],
   "source": [
    "from pyspark.sql.functions import col\n",
    "NYC_park.groupBy(year(NYC_park['Issue Date'])).count().sort(col('count').desc()).show(20)"
   ]
  },
  {
   "cell_type": "markdown",
   "metadata": {},
   "source": [
    "#### We can see that there are rows other than the year 2017. so I am considering here only for 2017 data and filter out the remaining data."
   ]
  },
  {
   "cell_type": "code",
   "execution_count": 100,
   "metadata": {},
   "outputs": [],
   "source": [
    "## Taking only 2017 year data"
   ]
  },
  {
   "cell_type": "code",
   "execution_count": 101,
   "metadata": {},
   "outputs": [],
   "source": [
    "from pyspark.sql.functions import year,month, dayofmonth\n",
    "NYC_park=NYC_park.filter((year('Issue Date')==2017))"
   ]
  },
  {
   "cell_type": "code",
   "execution_count": 102,
   "metadata": {},
   "outputs": [
    {
     "name": "stdout",
     "output_type": "stream",
     "text": [
      "+--------------+--------+------------------+-------------------+--------------+-----------------+------------+------------------+---------------+--------------+\n",
      "|Summons Number|Plate ID|Registration State|         Issue Date|Violation Code|Vehicle Body Type|Vehicle Make|Violation Precinct|Issuer Precinct|Violation Time|\n",
      "+--------------+--------+------------------+-------------------+--------------+-----------------+------------+------------------+---------------+--------------+\n",
      "|    8478629828| 66623ME|                NY|2017-06-14 00:00:00|            47|             REFG|       MITSU|                14|             14|         1120A|\n",
      "|    5096917368| FZD8593|                NY|2017-06-13 00:00:00|             7|             SUBN|       ME/BE|                 0|              0|         0852P|\n",
      "+--------------+--------+------------------+-------------------+--------------+-----------------+------------+------------------+---------------+--------------+\n",
      "only showing top 2 rows\n",
      "\n"
     ]
    }
   ],
   "source": [
    "NYC_park.show(2)"
   ]
  },
  {
   "cell_type": "code",
   "execution_count": 124,
   "metadata": {},
   "outputs": [],
   "source": [
    "## checking the count of records after filtering only 2017 year data"
   ]
  },
  {
   "cell_type": "code",
   "execution_count": 103,
   "metadata": {},
   "outputs": [
    {
     "name": "stdout",
     "output_type": "stream",
     "text": [
      "+----------------+-------+\n",
      "|year(Issue Date)|  count|\n",
      "+----------------+-------+\n",
      "|            2017|5431918|\n",
      "+----------------+-------+\n",
      "\n"
     ]
    }
   ],
   "source": [
    "NYC_park.groupBy(year(NYC_park['Issue Date'])).count().sort(col('count').desc()).show(20)"
   ]
  },
  {
   "cell_type": "markdown",
   "metadata": {},
   "source": [
    " ##  Examine the data"
   ]
  },
  {
   "cell_type": "markdown",
   "metadata": {},
   "source": [
    "###  1. Find the total number of tickets for the year."
   ]
  },
  {
   "cell_type": "code",
   "execution_count": 104,
   "metadata": {},
   "outputs": [
    {
     "data": {
      "text/plain": [
       "5431918"
      ]
     },
     "execution_count": 104,
     "metadata": {},
     "output_type": "execute_result"
    }
   ],
   "source": [
    "NYC_park.select(col('Summons Number')).count()"
   ]
  },
  {
   "cell_type": "markdown",
   "metadata": {},
   "source": [
    "#### There are 5431918 total tickets for the year"
   ]
  },
  {
   "cell_type": "markdown",
   "metadata": {},
   "source": [
    "### 2. Find out the number of unique states from where the cars that got parking tickets came. (Hint: Use the column 'Registration State'.\n",
    "### There is a numeric entry '99' in the column, which should be corrected. Replace it with the state having the maximum entries. Provide the number of unique states again."
   ]
  },
  {
   "cell_type": "code",
   "execution_count": 17,
   "metadata": {},
   "outputs": [],
   "source": [
    "## countDistinct() is used to get unique values in a column"
   ]
  },
  {
   "cell_type": "code",
   "execution_count": 105,
   "metadata": {},
   "outputs": [
    {
     "name": "stdout",
     "output_type": "stream",
     "text": [
      "+----------------------------------+\n",
      "|count(DISTINCT Registration State)|\n",
      "+----------------------------------+\n",
      "|                                65|\n",
      "+----------------------------------+\n",
      "\n"
     ]
    }
   ],
   "source": [
    "NYC_park.select(countDistinct(\"Registration State\")).show()"
   ]
  },
  {
   "cell_type": "markdown",
   "metadata": {},
   "source": [
    "#### There are 65 unique states that got parking tickets"
   ]
  },
  {
   "cell_type": "code",
   "execution_count": 108,
   "metadata": {},
   "outputs": [],
   "source": [
    "## checking which state got more parking tickets"
   ]
  },
  {
   "cell_type": "code",
   "execution_count": 107,
   "metadata": {},
   "outputs": [
    {
     "name": "stdout",
     "output_type": "stream",
     "text": [
      "+------------------+-------+\n",
      "|Registration State|  count|\n",
      "+------------------+-------+\n",
      "|                NY|4273951|\n",
      "|                NJ| 475825|\n",
      "|                PA| 140286|\n",
      "|                CT|  70403|\n",
      "|                FL|  69468|\n",
      "|                IN|  45525|\n",
      "|                MA|  38941|\n",
      "|                VA|  34367|\n",
      "|                MD|  30213|\n",
      "|                NC|  27152|\n",
      "|                TX|  18827|\n",
      "|                IL|  18666|\n",
      "|                GA|  17537|\n",
      "|                99|  16055|\n",
      "|                AZ|  12379|\n",
      "|                OH|  12281|\n",
      "|                CA|  12153|\n",
      "|                ME|  10806|\n",
      "|                SC|  10395|\n",
      "|                MN|  10083|\n",
      "+------------------+-------+\n",
      "only showing top 20 rows\n",
      "\n"
     ]
    }
   ],
   "source": [
    "(NYC_park.groupBy(NYC_park[\"Registration State\"]).count().sort(col(\"count\").desc()).show())"
   ]
  },
  {
   "cell_type": "code",
   "execution_count": 22,
   "metadata": {},
   "outputs": [],
   "source": [
    "### SO NY(New York) is the state from where cars that got parking tickets much higher than the other states."
   ]
  },
  {
   "cell_type": "code",
   "execution_count": 109,
   "metadata": {},
   "outputs": [],
   "source": [
    "## There is a numeric entry '99' in the column, which should be corrected. we replace \"99\" with STATE \"NY\" as it got \n",
    "## highest tickets i.e. maximum entries"
   ]
  },
  {
   "cell_type": "code",
   "execution_count": 110,
   "metadata": {},
   "outputs": [
    {
     "data": {
      "text/plain": [
       "16055"
      ]
     },
     "execution_count": 110,
     "metadata": {},
     "output_type": "execute_result"
    }
   ],
   "source": [
    "NYC_park.filter(NYC_park[\"Registration State\"]=='99').count()"
   ]
  },
  {
   "cell_type": "code",
   "execution_count": 111,
   "metadata": {},
   "outputs": [],
   "source": [
    "## There are 16055 entries need to be replaced with \"NY\""
   ]
  },
  {
   "cell_type": "code",
   "execution_count": 112,
   "metadata": {},
   "outputs": [],
   "source": [
    "## replacing 99 with  NY\n",
    "from pyspark.sql.functions import *\n",
    "NYC_park=NYC_park.withColumn(\"Registration State\",regexp_replace(col(\"Registration State\"),'99','NY'))"
   ]
  },
  {
   "cell_type": "code",
   "execution_count": 113,
   "metadata": {},
   "outputs": [
    {
     "data": {
      "text/plain": [
       "4290006"
      ]
     },
     "execution_count": 113,
     "metadata": {},
     "output_type": "execute_result"
    }
   ],
   "source": [
    "NYC_park.filter(NYC_park[\"Registration State\"]=='NY').count()"
   ]
  },
  {
   "cell_type": "code",
   "execution_count": 29,
   "metadata": {},
   "outputs": [],
   "source": [
    "## Again checking number of unique states again."
   ]
  },
  {
   "cell_type": "code",
   "execution_count": 115,
   "metadata": {},
   "outputs": [
    {
     "name": "stdout",
     "output_type": "stream",
     "text": [
      "+----------------------------------+\n",
      "|count(DISTINCT Registration State)|\n",
      "+----------------------------------+\n",
      "|                                64|\n",
      "+----------------------------------+\n",
      "\n"
     ]
    }
   ],
   "source": [
    "## SO we have 64 unique states\n",
    "\n",
    "NYC_park.select(countDistinct(\"Registration State\")).show()"
   ]
  },
  {
   "cell_type": "code",
   "execution_count": 116,
   "metadata": {},
   "outputs": [
    {
     "name": "stdout",
     "output_type": "stream",
     "text": [
      "+------------------+-------+\n",
      "|Registration State|  count|\n",
      "+------------------+-------+\n",
      "|                NY|4290006|\n",
      "|                NJ| 475825|\n",
      "|                PA| 140286|\n",
      "|                CT|  70403|\n",
      "|                FL|  69468|\n",
      "|                IN|  45525|\n",
      "|                MA|  38941|\n",
      "|                VA|  34367|\n",
      "|                MD|  30213|\n",
      "|                NC|  27152|\n",
      "|                TX|  18827|\n",
      "|                IL|  18666|\n",
      "|                GA|  17537|\n",
      "|                AZ|  12379|\n",
      "|                OH|  12281|\n",
      "|                CA|  12153|\n",
      "|                ME|  10806|\n",
      "|                SC|  10395|\n",
      "|                MN|  10083|\n",
      "|                OK|   9088|\n",
      "+------------------+-------+\n",
      "only showing top 20 rows\n",
      "\n"
     ]
    }
   ],
   "source": [
    "(NYC_park.groupBy(NYC_park[\"Registration State\"]).count().sort(col(\"count\").desc()).distinct().show())"
   ]
  },
  {
   "cell_type": "code",
   "execution_count": 117,
   "metadata": {},
   "outputs": [],
   "source": [
    "## So successfully replaced the '99' with 'NY'"
   ]
  },
  {
   "cell_type": "markdown",
   "metadata": {},
   "source": [
    "## Aggregation tasks"
   ]
  },
  {
   "cell_type": "markdown",
   "metadata": {},
   "source": [
    "### 1. How often does each violation code occur? Display the frequency of the top five violation codes."
   ]
  },
  {
   "cell_type": "code",
   "execution_count": 118,
   "metadata": {},
   "outputs": [
    {
     "data": {
      "text/plain": [
       "100"
      ]
     },
     "execution_count": 118,
     "metadata": {},
     "output_type": "execute_result"
    }
   ],
   "source": [
    "# distinct violation codes present in data\n",
    "NYC_park.select('Violation code').distinct().count()"
   ]
  },
  {
   "cell_type": "code",
   "execution_count": 119,
   "metadata": {},
   "outputs": [],
   "source": [
    "## so there are 100 unique violation codes. Below code shows how often each violation code occurs"
   ]
  },
  {
   "cell_type": "code",
   "execution_count": 120,
   "metadata": {},
   "outputs": [
    {
     "name": "stdout",
     "output_type": "stream",
     "text": [
      "+--------------+------+\n",
      "|Violation Code| count|\n",
      "+--------------+------+\n",
      "|            31| 80593|\n",
      "|            85|  9316|\n",
      "|            65|    26|\n",
      "|            53| 19488|\n",
      "|            78| 26776|\n",
      "|            34|    11|\n",
      "|            81|    14|\n",
      "|            28|     5|\n",
      "|            76|    18|\n",
      "|            27|  3039|\n",
      "|            26|   660|\n",
      "|            44|     4|\n",
      "|            12|    53|\n",
      "|            91|   433|\n",
      "|            22|    81|\n",
      "|            93|     8|\n",
      "|            47| 65440|\n",
      "|             1|   674|\n",
      "|            52|  1001|\n",
      "|            13| 11673|\n",
      "|            16| 74790|\n",
      "|             6|   192|\n",
      "|            86|     6|\n",
      "|             3|   407|\n",
      "|            20|319646|\n",
      "|            40|277184|\n",
      "|            94|   199|\n",
      "|            57|     3|\n",
      "|            54|     3|\n",
      "|            96|    41|\n",
      "|            48| 40987|\n",
      "|             5| 48081|\n",
      "|            19|149062|\n",
      "|            92|    20|\n",
      "|            64|  6764|\n",
      "|            41|  2621|\n",
      "|            43|   174|\n",
      "|            15|     7|\n",
      "|            37|293147|\n",
      "|            61|  5524|\n",
      "|            88|    10|\n",
      "|             9| 28685|\n",
      "|            17| 38449|\n",
      "|            72|  5519|\n",
      "|            35|  2034|\n",
      "|             4|   521|\n",
      "|            59|   132|\n",
      "|            55|    89|\n",
      "|             8|  1405|\n",
      "|            39|  1177|\n",
      "|            23|  9697|\n",
      "|            49|   477|\n",
      "|             7|210176|\n",
      "|            84| 40943|\n",
      "|            87|     1|\n",
      "|            51| 32764|\n",
      "|            69| 96914|\n",
      "|            97|    55|\n",
      "|            63|   250|\n",
      "|            77|  6081|\n",
      "|            10| 25923|\n",
      "|            50| 53749|\n",
      "|            45|  6107|\n",
      "|            38|542079|\n",
      "|            82| 17289|\n",
      "|            80|  2084|\n",
      "|            73|  2081|\n",
      "|            25|   115|\n",
      "|            24| 38460|\n",
      "|            70|144647|\n",
      "|            62|  2810|\n",
      "|            95|    87|\n",
      "|            29|    35|\n",
      "|            21|768087|\n",
      "|            98| 23952|\n",
      "|            60|  3691|\n",
      "|            90|    27|\n",
      "|            32|    14|\n",
      "|            75|  4345|\n",
      "|            56|   367|\n",
      "|            58|    13|\n",
      "|            11|  5592|\n",
      "|            33|    28|\n",
      "|            83|  5111|\n",
      "|            71|263393|\n",
      "|            68| 25036|\n",
      "|            14|476664|\n",
      "|            42| 32008|\n",
      "|            79|  5208|\n",
      "|             2|    77|\n",
      "|            99|  1439|\n",
      "|            30|   553|\n",
      "|            66| 13142|\n",
      "|            46|312330|\n",
      "|            67|  7381|\n",
      "|             0|   227|\n",
      "|            18| 10188|\n",
      "|            74| 58939|\n",
      "|            36|662765|\n",
      "|            89|  2325|\n",
      "+--------------+------+\n",
      "\n"
     ]
    }
   ],
   "source": [
    "NYC_park.groupBy(NYC_park['Violation Code']).count().show(100)"
   ]
  },
  {
   "cell_type": "code",
   "execution_count": 121,
   "metadata": {},
   "outputs": [],
   "source": [
    "## Frequency of top 5 violation codes"
   ]
  },
  {
   "cell_type": "code",
   "execution_count": 122,
   "metadata": {},
   "outputs": [
    {
     "name": "stdout",
     "output_type": "stream",
     "text": [
      "+--------------+------+\n",
      "|Violation Code| count|\n",
      "+--------------+------+\n",
      "|            21|768087|\n",
      "|            36|662765|\n",
      "|            38|542079|\n",
      "|            14|476664|\n",
      "|            20|319646|\n",
      "+--------------+------+\n",
      "only showing top 5 rows\n",
      "\n"
     ]
    }
   ],
   "source": [
    "NYC_park.groupBy(NYC_park['Violation Code']).count().sort(col('count').desc()).show(5)"
   ]
  },
  {
   "cell_type": "markdown",
   "metadata": {},
   "source": [
    "#### 21,36,38,14 and 20 are top5 violation codes"
   ]
  },
  {
   "cell_type": "markdown",
   "metadata": {},
   "source": [
    "           "
   ]
  },
  {
   "cell_type": "markdown",
   "metadata": {},
   "source": [
    "### 2. How often does each 'vehicle body type' get a parking ticket? How about the 'vehicle make'? "
   ]
  },
  {
   "cell_type": "code",
   "execution_count": 123,
   "metadata": {},
   "outputs": [
    {
     "data": {
      "text/plain": [
       "1165"
      ]
     },
     "execution_count": 123,
     "metadata": {},
     "output_type": "execute_result"
    }
   ],
   "source": [
    "# count of distinct vehicle body types\n",
    "NYC_park.select('Vehicle Body Type').distinct().count()"
   ]
  },
  {
   "cell_type": "code",
   "execution_count": 124,
   "metadata": {},
   "outputs": [],
   "source": [
    "## There are 1165 distinct vehicle body types. we need to show top 5 body type that got tickets."
   ]
  },
  {
   "cell_type": "code",
   "execution_count": 125,
   "metadata": {},
   "outputs": [
    {
     "name": "stdout",
     "output_type": "stream",
     "text": [
      "+-----------------+-------+\n",
      "|Vehicle Body Type|  count|\n",
      "+-----------------+-------+\n",
      "|             SUBN|1883954|\n",
      "|             4DSD|1547312|\n",
      "|              VAN| 724029|\n",
      "|             DELV| 358984|\n",
      "|              SDN| 194197|\n",
      "+-----------------+-------+\n",
      "only showing top 5 rows\n",
      "\n"
     ]
    }
   ],
   "source": [
    "NYC_park.groupBy(NYC_park[\"Vehicle Body Type\"]).count().sort(col('count').desc()).show(5)"
   ]
  },
  {
   "cell_type": "markdown",
   "metadata": {},
   "source": [
    "#### SUBN,4DSD,VAN,DELV and SDN are  top 5 vehicle body types got highest tickets"
   ]
  },
  {
   "cell_type": "markdown",
   "metadata": {},
   "source": [
    "                 "
   ]
  },
  {
   "cell_type": "markdown",
   "metadata": {},
   "source": [
    "### how often Vehicle maker getting parking tickets"
   ]
  },
  {
   "cell_type": "code",
   "execution_count": 126,
   "metadata": {},
   "outputs": [
    {
     "data": {
      "text/plain": [
       "3179"
      ]
     },
     "execution_count": 126,
     "metadata": {},
     "output_type": "execute_result"
    }
   ],
   "source": [
    "## count of distinct vehicle Make\n",
    "NYC_park.select('Vehicle Make').distinct().count()"
   ]
  },
  {
   "cell_type": "code",
   "execution_count": 127,
   "metadata": {},
   "outputs": [],
   "source": [
    "## there are 3179 unique vehicle(car) makers. need to show top 5 vehicle makers who got tickets"
   ]
  },
  {
   "cell_type": "code",
   "execution_count": 128,
   "metadata": {},
   "outputs": [
    {
     "name": "stdout",
     "output_type": "stream",
     "text": [
      "+------------+------+\n",
      "|Vehicle Make| count|\n",
      "+------------+------+\n",
      "|        FORD|636844|\n",
      "|       TOYOT|605291|\n",
      "|       HONDA|538884|\n",
      "|       NISSA|462017|\n",
      "|       CHEVR|356032|\n",
      "+------------+------+\n",
      "only showing top 5 rows\n",
      "\n"
     ]
    }
   ],
   "source": [
    "NYC_park.groupBy(NYC_park[\"Vehicle Make\"]).count().sort(col('count').desc()).show(5)"
   ]
  },
  {
   "cell_type": "markdown",
   "metadata": {},
   "source": [
    "#### Ford,Toyota,Honda,Nissan,Chevrolet are top 5 vehicle maker got highest tickets"
   ]
  },
  {
   "cell_type": "markdown",
   "metadata": {},
   "source": [
    "          "
   ]
  },
  {
   "cell_type": "markdown",
   "metadata": {},
   "source": [
    "### 3. A precinct is a police station that has a certain zone of the city under its command. Find the (5 highest) frequencies of tickets for each of the following:"
   ]
  },
  {
   "cell_type": "markdown",
   "metadata": {},
   "source": [
    "#### 1. 'Violation Precinct' "
   ]
  },
  {
   "cell_type": "code",
   "execution_count": 129,
   "metadata": {},
   "outputs": [
    {
     "data": {
      "text/plain": [
       "171"
      ]
     },
     "execution_count": 129,
     "metadata": {},
     "output_type": "execute_result"
    }
   ],
   "source": [
    "## distinct number of violation precincts\n",
    "NYC_park.select('Violation precinct').distinct().count()"
   ]
  },
  {
   "cell_type": "code",
   "execution_count": 130,
   "metadata": {},
   "outputs": [
    {
     "name": "stdout",
     "output_type": "stream",
     "text": [
      "+------------------+------+\n",
      "|Violation precinct| count|\n",
      "+------------------+------+\n",
      "|                 0|925596|\n",
      "|                19|274445|\n",
      "|                14|203553|\n",
      "|                 1|174702|\n",
      "|                18|169131|\n",
      "|               114|147444|\n",
      "+------------------+------+\n",
      "only showing top 6 rows\n",
      "\n"
     ]
    }
   ],
   "source": [
    "NYC_park.groupBy(NYC_park[\"Violation precinct\"]).count().sort(col('count').desc()).show(6)"
   ]
  },
  {
   "cell_type": "markdown",
   "metadata": {},
   "source": [
    "#### Given in problem statement that violation precinct '0' is erroneous entry. so showing top 6 entries. excluding 0, the top5 violation precincts are 19,14,1,18,114"
   ]
  },
  {
   "cell_type": "markdown",
   "metadata": {},
   "source": [
    "         "
   ]
  },
  {
   "cell_type": "markdown",
   "metadata": {},
   "source": [
    "#### 2. 'Issuer Precinct'"
   ]
  },
  {
   "cell_type": "code",
   "execution_count": 133,
   "metadata": {},
   "outputs": [
    {
     "data": {
      "text/plain": [
       "511"
      ]
     },
     "execution_count": 133,
     "metadata": {},
     "output_type": "execute_result"
    }
   ],
   "source": [
    "## distinct number of Issuer precincts in data\n",
    "NYC_park.select('Issuer precinct').distinct().count()"
   ]
  },
  {
   "cell_type": "code",
   "execution_count": 134,
   "metadata": {},
   "outputs": [
    {
     "name": "stdout",
     "output_type": "stream",
     "text": [
      "+---------------+-------+\n",
      "|Issuer precinct|  count|\n",
      "+---------------+-------+\n",
      "|              0|1078406|\n",
      "|             19| 266961|\n",
      "|             14| 200495|\n",
      "|              1| 168740|\n",
      "|             18| 162994|\n",
      "|            114| 144054|\n",
      "+---------------+-------+\n",
      "only showing top 6 rows\n",
      "\n"
     ]
    }
   ],
   "source": [
    "NYC_park.groupBy(NYC_park[\"Issuer precinct\"]).count().sort(col('count').desc()).show(6)"
   ]
  },
  {
   "cell_type": "markdown",
   "metadata": {},
   "source": [
    "#### Given in problem statement that issuer precinct '0' is erroneous entry. so showing top 6 entries. excluding 0, top5 issuer precincts are 19, 14, 1, 18 and 114"
   ]
  },
  {
   "cell_type": "markdown",
   "metadata": {},
   "source": [
    "      "
   ]
  },
  {
   "cell_type": "markdown",
   "metadata": {},
   "source": [
    "### 4. Find the violation code frequencies for three precincts that have issued the most number of tickets.Do these precinct zones have an exceptionally high frequency of certain violation codes? Are these codes common across precincts?"
   ]
  },
  {
   "cell_type": "code",
   "execution_count": 141,
   "metadata": {},
   "outputs": [],
   "source": [
    "## we got to know from above queries that top3 violation/issuer precincts are 1,14,19. we need to consider top 3 precincts\n",
    "## that have issued most number of tickets. so they are 19,14,1"
   ]
  },
  {
   "cell_type": "code",
   "execution_count": 146,
   "metadata": {},
   "outputs": [
    {
     "name": "stdout",
     "output_type": "stream",
     "text": [
      "+---------------+--------------+-----+\n",
      "|Issuer Precinct|Violation Code|count|\n",
      "+---------------+--------------+-----+\n",
      "|             19|            46|48445|\n",
      "|             14|            14|45036|\n",
      "|              1|            14|38354|\n",
      "|             19|            38|36386|\n",
      "|             19|            37|36056|\n",
      "|             14|            69|30464|\n",
      "|             19|            14|29797|\n",
      "|             19|            21|28415|\n",
      "|             14|            31|22555|\n",
      "|              1|            16|19081|\n",
      "|             14|            47|18364|\n",
      "|              1|            20|15408|\n",
      "|             19|            20|14629|\n",
      "|              1|            46|12745|\n",
      "|             19|            40|11416|\n",
      "|             14|            42|10027|\n",
      "|             19|            16| 9926|\n",
      "|              1|            38| 8535|\n",
      "|             14|            46| 7679|\n",
      "|              1|            17| 7526|\n",
      "|             19|            71| 7493|\n",
      "|             14|            19| 7031|\n",
      "|             19|            19| 6856|\n",
      "|             14|            84| 6743|\n",
      "|              1|            37| 6470|\n",
      "|              1|            31| 5853|\n",
      "|              1|            69| 5672|\n",
      "|             19|            10| 5643|\n",
      "|              1|            19| 5375|\n",
      "|             14|            82| 5052|\n",
      "+---------------+--------------+-----+\n",
      "only showing top 30 rows\n",
      "\n"
     ]
    }
   ],
   "source": [
    "NYC_park.filter((col('Issuer Precinct')==1) | (col('Issuer Precinct')==14) | (col('Issuer Precinct')==19)).\\\n",
    "groupBy(NYC_park['Issuer Precinct'],NYC_park['Violation Code']).count().sort(col('count').desc()).show(30)"
   ]
  },
  {
   "cell_type": "code",
   "execution_count": 143,
   "metadata": {},
   "outputs": [],
   "source": [
    "## will check seperately for each of top precinct 1,14,19"
   ]
  },
  {
   "cell_type": "code",
   "execution_count": 150,
   "metadata": {},
   "outputs": [
    {
     "name": "stdout",
     "output_type": "stream",
     "text": [
      "+--------------+-----+\n",
      "|Violation Code|count|\n",
      "+--------------+-----+\n",
      "|            14|40469|\n",
      "|            16|19279|\n",
      "|            20|16363|\n",
      "|            46|13583|\n",
      "|            38| 8592|\n",
      "|            17| 7803|\n",
      "|            37| 6493|\n",
      "|            19| 6242|\n",
      "|            31| 6064|\n",
      "|            69| 5682|\n",
      "+--------------+-----+\n",
      "only showing top 10 rows\n",
      "\n"
     ]
    }
   ],
   "source": [
    "NYC_park.filter((col('Violation Precinct')==1) | (col('issuer Precinct')==1)).\\\n",
    "groupBy(NYC_park['Violation Code']).count().sort(col('count').desc()).show(10)"
   ]
  },
  {
   "cell_type": "code",
   "execution_count": 151,
   "metadata": {},
   "outputs": [
    {
     "name": "stdout",
     "output_type": "stream",
     "text": [
      "+--------------+-----+\n",
      "|Violation Code|count|\n",
      "+--------------+-----+\n",
      "|            14|45952|\n",
      "|            69|30465|\n",
      "|            31|22651|\n",
      "|            47|18692|\n",
      "|            42|10027|\n",
      "|            46| 8469|\n",
      "|            19| 7459|\n",
      "|            84| 6749|\n",
      "|            82| 5052|\n",
      "|            40| 3662|\n",
      "+--------------+-----+\n",
      "only showing top 10 rows\n",
      "\n"
     ]
    }
   ],
   "source": [
    "NYC_park.filter((col('Violation Precinct')==14) | (col('issuer Precinct')==14)).\\\n",
    "groupBy(NYC_park['Violation Code']).count().sort(col('count').desc()).show(10)"
   ]
  },
  {
   "cell_type": "code",
   "execution_count": 152,
   "metadata": {},
   "outputs": [
    {
     "name": "stdout",
     "output_type": "stream",
     "text": [
      "+--------------+-----+\n",
      "|Violation Code|count|\n",
      "+--------------+-----+\n",
      "|            46|50865|\n",
      "|            38|37484|\n",
      "|            37|36468|\n",
      "|            14|30395|\n",
      "|            21|29415|\n",
      "|            20|15137|\n",
      "|            40|11520|\n",
      "|            16|10007|\n",
      "|            71| 7569|\n",
      "|            19| 7069|\n",
      "+--------------+-----+\n",
      "only showing top 10 rows\n",
      "\n"
     ]
    }
   ],
   "source": [
    "NYC_park.filter((col('Violation Precinct')==19) | (col('issuer Precinct')==19)).\\\n",
    "groupBy(NYC_park['Violation Code']).count().sort(col('count').desc()).show(10)"
   ]
  },
  {
   "cell_type": "code",
   "execution_count": 154,
   "metadata": {},
   "outputs": [],
   "source": [
    "## above queries shows violation code frequencies of the top3 precincts."
   ]
  },
  {
   "cell_type": "markdown",
   "metadata": {},
   "source": [
    "#### so common violation code across all the three precincts are 14 and 46, but among top5 violation codes, common violation code is 14.  These precinct zones doesn't have an exceptionally high frequency of certain violation codes."
   ]
  },
  {
   "cell_type": "markdown",
   "metadata": {},
   "source": [
    "####       "
   ]
  },
  {
   "cell_type": "code",
   "execution_count": 155,
   "metadata": {},
   "outputs": [],
   "source": [
    "## Using SQL view"
   ]
  },
  {
   "cell_type": "code",
   "execution_count": 160,
   "metadata": {},
   "outputs": [],
   "source": [
    "## minor change in column name\n",
    "for col in NYC_park.columns:\n",
    "    NYC_park=NYC_park.withColumnRenamed(col,col.replace(\" \",\"_\"))"
   ]
  },
  {
   "cell_type": "code",
   "execution_count": 161,
   "metadata": {},
   "outputs": [],
   "source": [
    "## creating SQL tempview\n",
    "\n",
    "NYC_park.createOrReplaceTempView(\"NYC_park_table\")"
   ]
  },
  {
   "cell_type": "code",
   "execution_count": 162,
   "metadata": {},
   "outputs": [
    {
     "name": "stdout",
     "output_type": "stream",
     "text": [
      "+---------------+--------------+---------------------+\n",
      "|issuer_precinct|violation_code|count(violation_code)|\n",
      "+---------------+--------------+---------------------+\n",
      "|             19|            46|                48445|\n",
      "|             14|            14|                45036|\n",
      "|              1|            14|                38354|\n",
      "|             19|            38|                36386|\n",
      "|             19|            37|                36056|\n",
      "|             14|            69|                30464|\n",
      "|             19|            14|                29797|\n",
      "|             19|            21|                28415|\n",
      "|             14|            31|                22555|\n",
      "|              1|            16|                19081|\n",
      "|             14|            47|                18364|\n",
      "|              1|            20|                15408|\n",
      "|             19|            20|                14629|\n",
      "|              1|            46|                12745|\n",
      "|             19|            40|                11416|\n",
      "|             14|            42|                10027|\n",
      "|             19|            16|                 9926|\n",
      "|              1|            38|                 8535|\n",
      "|             14|            46|                 7679|\n",
      "|              1|            17|                 7526|\n",
      "+---------------+--------------+---------------------+\n",
      "only showing top 20 rows\n",
      "\n"
     ]
    }
   ],
   "source": [
    "spark.sql(\"SELECT issuer_precinct,violation_code,count(violation_code) FROM nyc_park_table where issuer_precinct=1\"\n",
    "          + \" or issuer_precinct=14 or issuer_precinct=19 group by issuer_precinct,violation_code\"\n",
    "          + \" order by count(violation_code) desc\").show()"
   ]
  },
  {
   "cell_type": "code",
   "execution_count": 166,
   "metadata": {},
   "outputs": [
    {
     "name": "stdout",
     "output_type": "stream",
     "text": [
      "+--------------+-----+\n",
      "|Violation_Code|count|\n",
      "+--------------+-----+\n",
      "|            46|50865|\n",
      "|            38|37484|\n",
      "|            37|36468|\n",
      "|            14|30395|\n",
      "|            21|29415|\n",
      "+--------------+-----+\n",
      "only showing top 5 rows\n",
      "\n",
      "+--------------+-----+\n",
      "|Violation_Code|count|\n",
      "+--------------+-----+\n",
      "|            14|45952|\n",
      "|            69|30465|\n",
      "|            31|22651|\n",
      "|            47|18692|\n",
      "|            42|10027|\n",
      "+--------------+-----+\n",
      "only showing top 5 rows\n",
      "\n",
      "+--------------+-----+\n",
      "|Violation_Code|count|\n",
      "+--------------+-----+\n",
      "|            14|40469|\n",
      "|            16|19279|\n",
      "|            20|16363|\n",
      "|            46|13583|\n",
      "|            38| 8592|\n",
      "+--------------+-----+\n",
      "only showing top 5 rows\n",
      "\n"
     ]
    }
   ],
   "source": [
    "## Precinct code = 19\n",
    "spark.sql('SELECT Violation_Code,count(Violation_Code) as count from NYC_park_table\\\n",
    " where (Issuer_Precinct = \"19\" OR Violation_Precinct = \"19\") group by Violation_Code order by count desc').\\\n",
    "show(5)\n",
    "\n",
    "## Precinct code = 14\n",
    "spark.sql('SELECT Violation_Code,count(Violation_Code) as count from NYC_park_table\\\n",
    " where (Issuer_Precinct = \"14\" OR Violation_Precinct = \"14\") group by Violation_Code order by count desc').\\\n",
    "show(5)\n",
    "\n",
    "## Precinct code = 1\n",
    "spark.sql('SELECT Violation_Code,count(Violation_Code) as count from NYC_park_table\\\n",
    " where (Issuer_Precinct = \"1\" OR Violation_Precinct = \"1\") group by Violation_Code order by count desc').\\\n",
    "show(5)"
   ]
  },
  {
   "cell_type": "markdown",
   "metadata": {},
   "source": [
    "*top 5 violation codes for precinct code 19 are 46,38,37,14 and 21*<br>\n",
    "*top 5 violation codes for precinct code 14 are 14,69,31,47 and 42*<br>\n",
    "*top 5 violation codes for precinct code 1 are 14,16,20,46 and 38*<br>"
   ]
  },
  {
   "cell_type": "markdown",
   "metadata": {},
   "source": [
    "*common violation among top 5 is violation code 14*<br>"
   ]
  },
  {
   "cell_type": "code",
   "execution_count": 170,
   "metadata": {},
   "outputs": [],
   "source": [
    "## so obtaining same result through SQL also."
   ]
  },
  {
   "cell_type": "markdown",
   "metadata": {},
   "source": [
    "### 5. dealing with missing values"
   ]
  },
  {
   "cell_type": "code",
   "execution_count": 171,
   "metadata": {},
   "outputs": [
    {
     "data": {
      "text/plain": [
       "0"
      ]
     },
     "execution_count": 171,
     "metadata": {},
     "output_type": "execute_result"
    }
   ],
   "source": [
    "spark.sql(\"SELECT * from NYC_park_table where issuer_precinct is null\").count()"
   ]
  },
  {
   "cell_type": "code",
   "execution_count": 172,
   "metadata": {},
   "outputs": [
    {
     "data": {
      "text/plain": [
       "0"
      ]
     },
     "execution_count": 172,
     "metadata": {},
     "output_type": "execute_result"
    }
   ],
   "source": [
    "spark.sql(\"SELECT * from NYC_park_table where plate_id is null\").count()"
   ]
  },
  {
   "cell_type": "code",
   "execution_count": 173,
   "metadata": {},
   "outputs": [
    {
     "data": {
      "text/plain": [
       "0"
      ]
     },
     "execution_count": 173,
     "metadata": {},
     "output_type": "execute_result"
    }
   ],
   "source": [
    "spark.sql(\"SELECT * from NYC_park_table where summons_number is null or Registration_state is null\"\n",
    "         + \" or Issue_date is null or Violation_code is null or vehicle_body_type is null\"\n",
    "         + \" or vehicle_make is null or violation_precinct is null or violation_time is null\").count()"
   ]
  },
  {
   "cell_type": "markdown",
   "metadata": {},
   "source": [
    "#### so we got count as 0 which means there are no null values in data."
   ]
  },
  {
   "cell_type": "code",
   "execution_count": 174,
   "metadata": {},
   "outputs": [],
   "source": [
    "## But from below query, we found there are few rows with nan values. Spark didnt or found them as missing values as they\n",
    "## present as string nan in csv file and not as blank(empty space). So, spark is giving count 0 for query of missing values."
   ]
  },
  {
   "cell_type": "code",
   "execution_count": 176,
   "metadata": {},
   "outputs": [
    {
     "name": "stdout",
     "output_type": "stream",
     "text": [
      "+--------------+--------+------------------+-------------------+--------------+-----------------+------------+------------------+---------------+--------------+\n",
      "|Summons_Number|Plate_ID|Registration_State|         Issue_Date|Violation_Code|Vehicle_Body_Type|Vehicle_Make|Violation_Precinct|Issuer_Precinct|Violation_Time|\n",
      "+--------------+--------+------------------+-------------------+--------------+-----------------+------------+------------------+---------------+--------------+\n",
      "|    1418425369| JYW5248|                PA|2017-03-21 00:00:00|            21|              SDN|         nan|                48|             48|         0952A|\n",
      "|    1423945281| 2240653|                IN|2017-05-13 00:00:00|            14|              nan|       FRUEH|                14|            420|         1159A|\n",
      "|    8546468965| 37489BB|                NY|2017-06-12 00:00:00|            46|              BUS|         nan|                68|             68|         0216P|\n",
      "|    8583406443| 10217AV|                NY|2017-06-27 00:00:00|            38|             UTIL|         nan|                 5|              5|         0513P|\n",
      "+--------------+--------+------------------+-------------------+--------------+-----------------+------------+------------------+---------------+--------------+\n",
      "only showing top 4 rows\n",
      "\n"
     ]
    }
   ],
   "source": [
    "spark.sql(\"SELECT * from NYC_park_table where summons_number ='nan' or Registration_state ='nan' \"\n",
    "         + \" or Issue_date ='nan' or Violation_code ='nan' or vehicle_body_type = 'nan' \"\n",
    "         + \" or vehicle_make= 'nan' or violation_precinct ='nan' or violation_time ='nan' \").show(4)"
   ]
  },
  {
   "cell_type": "markdown",
   "metadata": {},
   "source": [
    "*there are rows with nan as string type and not found by spark as missing values.<br>\n",
    "*so if we need we can deal with those values by dropping them using filter option if we need to drop those because dropna() command doesnt work in this case.<br>"
   ]
  },
  {
   "cell_type": "markdown",
   "metadata": {},
   "source": [
    "#### The Violation Time field is specified in a strange format. will convert into a time attribute"
   ]
  },
  {
   "cell_type": "code",
   "execution_count": 179,
   "metadata": {},
   "outputs": [
    {
     "name": "stdout",
     "output_type": "stream",
     "text": [
      "+-------------------------------+\n",
      "|substring(Violation_Time, 1, 2)|\n",
      "+-------------------------------+\n",
      "|                             07|\n",
      "|                             51|\n",
      "|                             54|\n",
      "|                             15|\n",
      "|                             11|\n",
      "|                             73|\n",
      "|                             87|\n",
      "|                             64|\n",
      "|                             30|\n",
      "|                             59|\n",
      "|                             01|\n",
      "|                             22|\n",
      "|                             28|\n",
      "|                             85|\n",
      "|                             16|\n",
      "|                             18|\n",
      "|                             27|\n",
      "|                             61|\n",
      "|                             00|\n",
      "|                             17|\n",
      "|                             26|\n",
      "|                             09|\n",
      "|                             46|\n",
      "|                             78|\n",
      "+-------------------------------+\n",
      "only showing top 24 rows\n",
      "\n"
     ]
    }
   ],
   "source": [
    "## Let's check for the unique values of Hours\n",
    "\n",
    "spark.sql('select distinct(substring(Violation_Time, 1, 2)) FROM NYC_park_table').show(24)"
   ]
  },
  {
   "cell_type": "code",
   "execution_count": 180,
   "metadata": {},
   "outputs": [],
   "source": [
    "## There are some weird hours, so will filter those."
   ]
  },
  {
   "cell_type": "code",
   "execution_count": 183,
   "metadata": {},
   "outputs": [],
   "source": [
    "## Filter data with valid violation hour\n",
    "\n",
    "NYC_park_1 = spark.sql('select * from NYC_park_table where substring(violation_time, 1, 2)\\\n",
    "in (\"01\",\"02\",\"03\",\"04\",\"05\",\"06\",\"07\",\"08\",\"09\",\"10\",\"11\",\"12\")')"
   ]
  },
  {
   "cell_type": "code",
   "execution_count": 184,
   "metadata": {},
   "outputs": [],
   "source": [
    "#Create temp sql table\n",
    "NYC_park_1.createOrReplaceTempView(\"park_tab1\")"
   ]
  },
  {
   "cell_type": "code",
   "execution_count": 186,
   "metadata": {},
   "outputs": [
    {
     "name": "stdout",
     "output_type": "stream",
     "text": [
      "+-------------------------------+--------------------------------------+\n",
      "|substring(violation_time, 1, 2)|count(substring(violation_time, 1, 2))|\n",
      "+-------------------------------+--------------------------------------+\n",
      "|                             09|                                650953|\n",
      "|                             11|                                603909|\n",
      "|                             01|                                595356|\n",
      "|                             08|                                553068|\n",
      "|                             10|                                531998|\n",
      "|                             12|                                527252|\n",
      "|                             02|                                506380|\n",
      "|                             03|                                346922|\n",
      "|                             04|                                310530|\n",
      "|                             07|                                296729|\n",
      "|                             05|                                254329|\n",
      "|                             06|                                225837|\n",
      "+-------------------------------+--------------------------------------+\n",
      "\n"
     ]
    }
   ],
   "source": [
    "## Let's check for the count vs hour of the violation now\n",
    "\n",
    "spark.sql('select substring(violation_time, 1, 2),count(substring(violation_time, 1, 2))\\\n",
    "from park_tab1 group by (substring(violation_time, 1, 2)) order by count(substring(violation_time, 1, 2)) desc').show(13)"
   ]
  },
  {
   "cell_type": "code",
   "execution_count": 187,
   "metadata": {},
   "outputs": [],
   "source": [
    "## now valid hours"
   ]
  },
  {
   "cell_type": "code",
   "execution_count": 192,
   "metadata": {},
   "outputs": [],
   "source": [
    "## Let's derive a new column with valid time format\n",
    "## For example 0143A is converted to 01:43 AM\n",
    "## This column is just for reference and not at all needed for seggregation\n",
    "\n",
    "NYC_park_2 = spark.sql('SELECT *, CONCAT(substring(Violation_Time, 1, 2),\":\",substring(Violation_Time, 3, 2),\\\n",
    "\" \",substring(Violation_Time, 5, 1),\"M\") as violat_time from park_tab1')"
   ]
  },
  {
   "cell_type": "code",
   "execution_count": 193,
   "metadata": {},
   "outputs": [
    {
     "name": "stdout",
     "output_type": "stream",
     "text": [
      "+--------------+--------+------------------+-------------------+--------------+-----------------+------------+------------------+---------------+--------------+-----------+\n",
      "|Summons_Number|Plate_ID|Registration_State|         Issue_Date|Violation_Code|Vehicle_Body_Type|Vehicle_Make|Violation_Precinct|Issuer_Precinct|Violation_Time|violat_time|\n",
      "+--------------+--------+------------------+-------------------+--------------+-----------------+------------+------------------+---------------+--------------+-----------+\n",
      "|    8478629828| 66623ME|                NY|2017-06-14 00:00:00|            47|             REFG|       MITSU|                14|             14|         1120A|   11:20 AM|\n",
      "|    5096917368| FZD8593|                NY|2017-06-13 00:00:00|             7|             SUBN|       ME/BE|                 0|              0|         0852P|   08:52 PM|\n",
      "+--------------+--------+------------------+-------------------+--------------+-----------------+------------+------------------+---------------+--------------+-----------+\n",
      "only showing top 2 rows\n",
      "\n"
     ]
    }
   ],
   "source": [
    "NYC_park_2.show(2)"
   ]
  },
  {
   "cell_type": "code",
   "execution_count": 194,
   "metadata": {},
   "outputs": [],
   "source": [
    "#Create temp sql table\n",
    "NYC_park_2.createOrReplaceTempView(\"park_tab2\")"
   ]
  },
  {
   "cell_type": "code",
   "execution_count": 196,
   "metadata": {},
   "outputs": [],
   "source": [
    "## Now let's seggregate a day into 6 time bins\n",
    "## We are taking 12AM to 4AM as 1st, 4AM to 8AM as 2nd, 8AM to 12PM 3rd, 12PM to 4PM 4th, 4PM to 8PM 5th and 8Pm to 12 last\n",
    "##Below is for extracting hour, am or pm info and writing to separate cols\n",
    "\n",
    "NYC_park_3 = spark.sql('select *, substring(violat_time, 1, 2) as hour_vio,substring(violat_time, 6, 3) as am_pm from park_tab2')\n",
    "\n",
    "NYC_park_3.createOrReplaceTempView(\"park_tab3\") ## Temp sql \n",
    "\n",
    "NYC_park_4 = spark.sql('select *,\\\n",
    "(case when ((hour_vio in (\"12\",\"01\",\"02\",\"03\")) and (substring(Violation_Time, 5, 1) = \"A\")) then \"12 AM to 04 AM\" else\\\n",
    "(case when ((hour_vio in (\"12\",\"01\",\"02\",\"03\")) and (substring(Violation_Time, 5, 1) = \"P\")) then \"12 PM to 04 PM\" else\\\n",
    "(case when ((hour_vio in (\"04\",\"05\",\"06\",\"07\")) and (substring(Violation_Time, 5, 1) = \"A\")) then \"04 AM to 08 AM\" else\\\n",
    "(case when ((hour_vio in (\"04\",\"05\",\"06\",\"07\")) and (substring(Violation_Time, 5, 1) = \"P\")) then \"04 PM to 08 PM\" else\\\n",
    "(case when ((hour_vio in (\"08\",\"09\",\"10\",\"11\")) and (substring(Violation_Time, 5, 1) = \"A\")) then \"08 AM to 12 PM\" else\\\n",
    "\"08 PM to 12 AM\" end) end) end) end) end) as time_bin from park_tab3')"
   ]
  },
  {
   "cell_type": "code",
   "execution_count": 209,
   "metadata": {},
   "outputs": [
    {
     "name": "stdout",
     "output_type": "stream",
     "text": [
      "+--------------+--------+------------------+-------------------+--------------+-----------------+------------+------------------+---------------+--------------+-----------+--------+-----+--------------+\n",
      "|Summons_Number|Plate_ID|Registration_State|         Issue_Date|Violation_Code|Vehicle_Body_Type|Vehicle_Make|Violation_Precinct|Issuer_Precinct|Violation_Time|violat_time|hour_vio|am_pm|      time_bin|\n",
      "+--------------+--------+------------------+-------------------+--------------+-----------------+------------+------------------+---------------+--------------+-----------+--------+-----+--------------+\n",
      "|    8478629828| 66623ME|                NY|2017-06-14 00:00:00|            47|             REFG|       MITSU|                14|             14|         1120A|   11:20 AM|      11|   AM|08 AM to 12 PM|\n",
      "|    5096917368| FZD8593|                NY|2017-06-13 00:00:00|             7|             SUBN|       ME/BE|                 0|              0|         0852P|   08:52 PM|      08|   PM|08 PM to 12 AM|\n",
      "+--------------+--------+------------------+-------------------+--------------+-----------------+------------+------------------+---------------+--------------+-----------+--------+-----+--------------+\n",
      "only showing top 2 rows\n",
      "\n"
     ]
    }
   ],
   "source": [
    "NYC_park_4.show(2)"
   ]
  },
  {
   "cell_type": "code",
   "execution_count": 203,
   "metadata": {},
   "outputs": [
    {
     "name": "stdout",
     "output_type": "stream",
     "text": [
      "+--------------+--------------+---------+\n",
      "|      time_bin|Violation_Code|total_cnt|\n",
      "+--------------+--------------+---------+\n",
      "|04 AM to 08 AM|            14|    74114|\n",
      "|04 AM to 08 AM|            40|    60652|\n",
      "|04 AM to 08 AM|            21|    57897|\n",
      "+--------------+--------------+---------+\n",
      "only showing top 3 rows\n",
      "\n",
      "+--------------+--------------+---------+\n",
      "|      time_bin|Violation_Code|total_cnt|\n",
      "+--------------+--------------+---------+\n",
      "|04 PM to 08 PM|            38|   102855|\n",
      "|04 PM to 08 PM|            14|    75902|\n",
      "|04 PM to 08 PM|            37|    70345|\n",
      "+--------------+--------------+---------+\n",
      "only showing top 3 rows\n",
      "\n",
      "+--------------+--------------+---------+\n",
      "|      time_bin|Violation_Code|total_cnt|\n",
      "+--------------+--------------+---------+\n",
      "|12 AM to 04 AM|            21|    26444|\n",
      "|12 AM to 04 AM|            40|    22421|\n",
      "|12 AM to 04 AM|            78|    13737|\n",
      "+--------------+--------------+---------+\n",
      "only showing top 3 rows\n",
      "\n",
      "+--------------+--------------+---------+\n",
      "|      time_bin|Violation_Code|total_cnt|\n",
      "+--------------+--------------+---------+\n",
      "|12 PM to 04 PM|            36|   286284|\n",
      "|12 PM to 04 PM|            38|   240721|\n",
      "|12 PM to 04 PM|            37|   167025|\n",
      "+--------------+--------------+---------+\n",
      "only showing top 3 rows\n",
      "\n",
      "+--------------+--------------+---------+\n",
      "|      time_bin|Violation_Code|total_cnt|\n",
      "+--------------+--------------+---------+\n",
      "|08 AM to 12 PM|            21|   598069|\n",
      "|08 AM to 12 PM|            36|   348165|\n",
      "|08 AM to 12 PM|            38|   176570|\n",
      "+--------------+--------------+---------+\n",
      "only showing top 3 rows\n",
      "\n",
      "+--------------+--------------+---------+\n",
      "|      time_bin|Violation_Code|total_cnt|\n",
      "+--------------+--------------+---------+\n",
      "|08 PM to 12 AM|             7|    26293|\n",
      "|08 PM to 12 AM|            40|    22337|\n",
      "|08 PM to 12 AM|            14|    21045|\n",
      "+--------------+--------------+---------+\n",
      "only showing top 3 rows\n",
      "\n"
     ]
    }
   ],
   "source": [
    "### For each of these groups, find the three most commonly occurring violations.\n",
    "\n",
    "NYC_park_4.createOrReplaceTempView(\"park_tab4\") ## Temp sql \n",
    "\n",
    "##Below is the temp table to make our process easier\n",
    "time_segg = spark.sql('select time_bin,Violation_Code,count(*) as total_cnt from park_tab4 group by time_bin,Violation_Code \\\n",
    "order by time_bin,total_cnt desc')\n",
    "\n",
    "time_segg.filter((time_segg[\"time_bin\"] == \"04 AM to 08 AM\")).sort(desc(\"total_cnt\")).show(3)\n",
    "time_segg.filter((time_segg[\"time_bin\"] == \"04 PM to 08 PM\")).sort(desc(\"total_cnt\")).show(3)\n",
    "time_segg.filter((time_segg[\"time_bin\"] == \"12 AM to 04 AM\")).sort(desc(\"total_cnt\")).show(3)\n",
    "time_segg.filter((time_segg[\"time_bin\"] == \"12 PM to 04 PM\")).sort(desc(\"total_cnt\")).show(3)\n",
    "time_segg.filter((time_segg[\"time_bin\"] == \"08 AM to 12 PM\")).sort(desc(\"total_cnt\")).show(3)\n",
    "time_segg.filter((time_segg[\"time_bin\"] == \"08 PM to 12 AM\")).sort(desc(\"total_cnt\")).show(3)"
   ]
  },
  {
   "cell_type": "markdown",
   "metadata": {},
   "source": [
    "#### common violations are 14,21,36,38 among few time_bins but not in all. All time bins have different common violation codes"
   ]
  },
  {
   "cell_type": "markdown",
   "metadata": {},
   "source": [
    "    "
   ]
  },
  {
   "cell_type": "markdown",
   "metadata": {},
   "source": [
    "#### For the three most commonly occurring violation codes, find the most common time of the day"
   ]
  },
  {
   "cell_type": "code",
   "execution_count": 206,
   "metadata": {},
   "outputs": [
    {
     "name": "stdout",
     "output_type": "stream",
     "text": [
      "+--------------+--------------+---------+\n",
      "|      time_bin|Violation_Code|total_cnt|\n",
      "+--------------+--------------+---------+\n",
      "|08 AM to 12 PM|            21|   598069|\n",
      "|12 PM to 04 PM|            21|    74693|\n",
      "|04 AM to 08 AM|            21|    57897|\n",
      "+--------------+--------------+---------+\n",
      "only showing top 3 rows\n",
      "\n",
      "+--------------+--------------+---------+\n",
      "|      time_bin|Violation_Code|total_cnt|\n",
      "+--------------+--------------+---------+\n",
      "|08 AM to 12 PM|            36|   348165|\n",
      "|12 PM to 04 PM|            36|   286284|\n",
      "|04 AM to 08 AM|            36|    14782|\n",
      "+--------------+--------------+---------+\n",
      "only showing top 3 rows\n",
      "\n",
      "+--------------+--------------+---------+\n",
      "|      time_bin|Violation_Code|total_cnt|\n",
      "+--------------+--------------+---------+\n",
      "|12 PM to 04 PM|            38|   240721|\n",
      "|08 AM to 12 PM|            38|   176570|\n",
      "|04 PM to 08 PM|            38|   102855|\n",
      "+--------------+--------------+---------+\n",
      "only showing top 3 rows\n",
      "\n"
     ]
    }
   ],
   "source": [
    "## We know top 3 violation codes are 21,36 and 48 (from above queries)\n",
    "\n",
    "time_segg.filter((time_segg[\"Violation_Code\"] == \"21\")).sort(desc(\"total_cnt\")).show(3)\n",
    "time_segg.filter((time_segg[\"Violation_Code\"] == \"36\")).sort(desc(\"total_cnt\")).show(3)\n",
    "time_segg.filter((time_segg[\"Violation_Code\"] == \"38\")).sort(desc(\"total_cnt\")).show(3)"
   ]
  },
  {
   "cell_type": "markdown",
   "metadata": {},
   "source": [
    "#### Most common timings for violation code 21,36 are from 8AM to 12PM and for 38, it is from 12PM to 4PM"
   ]
  },
  {
   "cell_type": "markdown",
   "metadata": {},
   "source": [
    "     "
   ]
  },
  {
   "cell_type": "markdown",
   "metadata": {},
   "source": [
    "### 6. Let’s try and find some seasonality in this data:"
   ]
  },
  {
   "cell_type": "code",
   "execution_count": 211,
   "metadata": {},
   "outputs": [],
   "source": [
    "## using issue_date to segregate into seasons. I am dividing data into 3 seasons- rainy, winter and summer\n",
    "\n",
    "NYC_park_5 = spark.sql('select *,\\\n",
    "(case when (month(Issue_Date) in (\"9\",\"10\",\"11\")) then \"Fall\" else\\\n",
    "((case when (month(Issue_Date) in (\"12\",\"1\",\"2\")) then \"Winter\" else\\\n",
    "((case when (month(Issue_Date) in (\"3\",\"4\",\"5\")) then \"Spring\" else \"Summer\" end)) end)) end)\\\n",
    "as season from park_tab4')"
   ]
  },
  {
   "cell_type": "code",
   "execution_count": 235,
   "metadata": {},
   "outputs": [],
   "source": [
    "## creating/replacing/updating the SQL view\n",
    "\n",
    "NYC_park_5.createOrReplaceTempView(\"park_tab5\") "
   ]
  },
  {
   "cell_type": "code",
   "execution_count": 236,
   "metadata": {},
   "outputs": [
    {
     "name": "stdout",
     "output_type": "stream",
     "text": [
      "+--------------+--------+------------------+-------------------+--------------+-----------------+------------+------------------+---------------+--------------+-----------+--------+-----+--------------+------+\n",
      "|Summons_Number|Plate_ID|Registration_State|         Issue_Date|Violation_Code|Vehicle_Body_Type|Vehicle_Make|Violation_Precinct|Issuer_Precinct|Violation_Time|violat_time|hour_vio|am_pm|      time_bin|season|\n",
      "+--------------+--------+------------------+-------------------+--------------+-----------------+------------+------------------+---------------+--------------+-----------+--------+-----+--------------+------+\n",
      "|    8478629828| 66623ME|                NY|2017-06-14 00:00:00|            47|             REFG|       MITSU|                14|             14|         1120A|   11:20 AM|      11|   AM|08 AM to 12 PM|Summer|\n",
      "|    5096917368| FZD8593|                NY|2017-06-13 00:00:00|             7|             SUBN|       ME/BE|                 0|              0|         0852P|   08:52 PM|      08|   PM|08 PM to 12 AM|Summer|\n",
      "+--------------+--------+------------------+-------------------+--------------+-----------------+------------+------------------+---------------+--------------+-----------+--------+-----+--------------+------+\n",
      "only showing top 2 rows\n",
      "\n"
     ]
    }
   ],
   "source": [
    "NYC_park_5.show(2)"
   ]
  },
  {
   "cell_type": "markdown",
   "metadata": {},
   "source": [
    "#### frequencies of tickets for each season. "
   ]
  },
  {
   "cell_type": "code",
   "execution_count": 218,
   "metadata": {},
   "outputs": [
    {
     "name": "stdout",
     "output_type": "stream",
     "text": [
      "+------+-------+\n",
      "|season|  count|\n",
      "+------+-------+\n",
      "|Spring|2858117|\n",
      "|Summer| 848440|\n",
      "|  Fall|    970|\n",
      "|Winter|1695736|\n",
      "+------+-------+\n",
      "\n"
     ]
    }
   ],
   "source": [
    "NYC_park_5.groupBy(NYC_park_5['season']).count().show()"
   ]
  },
  {
   "cell_type": "markdown",
   "metadata": {},
   "source": [
    "#### three most common violations for each of these seasons."
   ]
  },
  {
   "cell_type": "code",
   "execution_count": 251,
   "metadata": {},
   "outputs": [
    {
     "name": "stdout",
     "output_type": "stream",
     "text": [
      "+--------------+---------------------+\n",
      "|Violation_Code|count(Violation_Code)|\n",
      "+--------------+---------------------+\n",
      "|            31|                    2|\n",
      "|            85|                    3|\n",
      "|            53|                    6|\n",
      "+--------------+---------------------+\n",
      "only showing top 3 rows\n",
      "\n",
      "+--------------+---------------------+\n",
      "|Violation_Code|count(Violation_Code)|\n",
      "+--------------+---------------------+\n",
      "|            31|                42061|\n",
      "|            85|                 4929|\n",
      "|            65|                   14|\n",
      "+--------------+---------------------+\n",
      "only showing top 3 rows\n",
      "\n",
      "+--------------+---------------------+\n",
      "|Violation_Code|count(Violation_Code)|\n",
      "+--------------+---------------------+\n",
      "|            31|                12740|\n",
      "|            85|                 1165|\n",
      "|            53|                 3166|\n",
      "+--------------+---------------------+\n",
      "only showing top 3 rows\n",
      "\n",
      "+--------------+---------------------+\n",
      "|Violation_Code|count(Violation_Code)|\n",
      "+--------------+---------------------+\n",
      "|            31|                25786|\n",
      "|            85|                 2700|\n",
      "|            65|                   12|\n",
      "+--------------+---------------------+\n",
      "only showing top 3 rows\n",
      "\n"
     ]
    }
   ],
   "source": [
    "## below are few rows\n",
    "\n",
    "(NYC_park_5.filter((NYC_park_5[\"season\"] == \"Fall\"))).groupBy(\"Violation_Code\").agg({\"Violation_Code\" : \"count\"}).\\\n",
    ".sort().show(3)\n",
    "\n",
    "(NYC_park_5.filter((NYC_park_5[\"season\"] == \"Spring\"))).groupBy(\"Violation_Code\").agg({\"Violation_Code\" : \"count\"}).\\\n",
    "show(3)\n",
    "\n",
    "(NYC_park_5.filter((NYC_park_5[\"season\"] == \"Summer\"))).groupBy(\"Violation_Code\").agg({\"Violation_Code\" : \"count\"}).\\\n",
    "show(3)\n",
    "\n",
    "(NYC_park_5.filter((NYC_park_5[\"season\"] == \"Winter\"))).groupBy(\"Violation_Code\").agg({\"Violation_Code\" : \"count\"}).\\\n",
    "show(3)"
   ]
  },
  {
   "cell_type": "code",
   "execution_count": 83,
   "metadata": {},
   "outputs": [
    {
     "name": "stdout",
     "output_type": "stream",
     "text": [
      "+------+--------------+---------------------+\n",
      "|season|violation_code|count(violation_code)|\n",
      "+------+--------------+---------------------+\n",
      "|summer|            21|               767759|\n",
      "|summer|            36|               662765|\n",
      "|summer|            38|               542064|\n",
      "|winter|            36|               497970|\n",
      "|summer|            14|               476492|\n",
      "| rainy|            21|               385410|\n",
      "|winter|            21|               375419|\n",
      "|summer|            20|               319512|\n",
      "|summer|            46|               311892|\n",
      "|summer|            37|               293142|\n",
      "|summer|            40|               276954|\n",
      "|winter|            38|               275268|\n",
      "|summer|            71|               263351|\n",
      "| rainy|            38|               244972|\n",
      "| rainy|            36|               239879|\n",
      "|winter|            14|               215487|\n",
      "|summer|             7|               210176|\n",
      "| rainy|            14|               201519|\n",
      "|winter|             7|               170202|\n",
      "|winter|            20|               156052|\n",
      "+------+--------------+---------------------+\n",
      "only showing top 20 rows\n",
      "\n"
     ]
    }
   ],
   "source": [
    "spark.sql(\"SELECT season,violation_code,count(violation_code) FROM Park_tab5\"\n",
    "          + \" group by season,violation_code\"\n",
    "          + \" order by count(violation_code) desc\").show()"
   ]
  },
  {
   "cell_type": "markdown",
   "metadata": {},
   "source": [
    "*We see top3 violation codes are same for spring,summer an dwinter seasons. so we can see that for each of the seasons i.e. winter,summer and rainy 3 most common violation codes are 21,36 and 38*"
   ]
  },
  {
   "cell_type": "markdown",
   "metadata": {},
   "source": [
    "#### Find the total occurrences of the three most common violation codes."
   ]
  },
  {
   "cell_type": "code",
   "execution_count": 259,
   "metadata": {},
   "outputs": [
    {
     "name": "stdout",
     "output_type": "stream",
     "text": [
      "+--------------+----------------+\n",
      "|violation_code|total_occurences|\n",
      "+--------------+----------------+\n",
      "|            21|          757547|\n",
      "|            36|          662765|\n",
      "|            38|          542073|\n",
      "|            14|          472616|\n",
      "|            20|          317474|\n",
      "+--------------+----------------+\n",
      "only showing top 5 rows\n",
      "\n"
     ]
    }
   ],
   "source": [
    "spark.sql(\"select violation_code,count(*) as total_occurences from park_tab5 \\\n",
    "group by violation_code order by count(violation_code) desc\").show(5)"
   ]
  },
  {
   "cell_type": "code",
   "execution_count": 254,
   "metadata": {},
   "outputs": [
    {
     "name": "stdout",
     "output_type": "stream",
     "text": [
      "+----------------+\n",
      "|total_occurences|\n",
      "+----------------+\n",
      "|         1962385|\n",
      "+----------------+\n",
      "\n"
     ]
    }
   ],
   "source": [
    "## we know from above that 3 most common violaiton codes are 21,36 and 38\n",
    "\n",
    "spark.sql(\"select count(*) as total_occurences from park_tab5 where violation_code = 21 or violation_code =36 or\"\n",
    "         + \" violation_code = 38\").show()"
   ]
  },
  {
   "cell_type": "markdown",
   "metadata": {},
   "source": [
    "#### total amount collected for the three violation codes with the maximum tickets"
   ]
  },
  {
   "cell_type": "code",
   "execution_count": 260,
   "metadata": {},
   "outputs": [],
   "source": [
    "### we know top3 violation codes with max. tickets are 21,36 and 38"
   ]
  },
  {
   "cell_type": "code",
   "execution_count": 261,
   "metadata": {},
   "outputs": [],
   "source": [
    "### from website given, we know about the fines for each of the violation code\n",
    "\n",
    "### violation code 21 - average fine is $54.5\n",
    "### violation code 36 and 38 - average fine is $50"
   ]
  },
  {
   "cell_type": "code",
   "execution_count": 265,
   "metadata": {},
   "outputs": [
    {
     "name": "stdout",
     "output_type": "stream",
     "text": [
      "+--------------+---------------------+----------+\n",
      "|violation_code|count(violation_code)|       fee|\n",
      "+--------------+---------------------+----------+\n",
      "|            21|               757547|41286311.5|\n",
      "+--------------+---------------------+----------+\n",
      "\n"
     ]
    }
   ],
   "source": [
    "spark.sql(\"SELECT violation_code,count(violation_code),count(violation_code)*54.5 as fee FROM park_tab5 where violation_code=21 \"\n",
    "          +\" group by violation_code\").show()"
   ]
  },
  {
   "cell_type": "code",
   "execution_count": 266,
   "metadata": {},
   "outputs": [
    {
     "name": "stdout",
     "output_type": "stream",
     "text": [
      "+--------------+---------------------+--------+\n",
      "|violation_code|count(violation_code)|     fee|\n",
      "+--------------+---------------------+--------+\n",
      "|            36|               662765|33138250|\n",
      "+--------------+---------------------+--------+\n",
      "\n"
     ]
    }
   ],
   "source": [
    "spark.sql(\"SELECT violation_code,count(violation_code),count(violation_code)*50 as fee FROM park_tab5 where violation_code=36 \"\n",
    "          +\" group by violation_code\").show()"
   ]
  },
  {
   "cell_type": "code",
   "execution_count": 267,
   "metadata": {},
   "outputs": [
    {
     "name": "stdout",
     "output_type": "stream",
     "text": [
      "+--------------+--------+\n",
      "|violation_code|     fee|\n",
      "+--------------+--------+\n",
      "|            38|27103650|\n",
      "+--------------+--------+\n",
      "\n"
     ]
    }
   ],
   "source": [
    "spark.sql(\"SELECT violation_code,count(violation_code)*50 as fee FROM park_tab5 where violation_code=38 \"\n",
    "          +\" group by violation_code\").show()"
   ]
  },
  {
   "cell_type": "markdown",
   "metadata": {},
   "source": [
    "### We can see that violation code 21 has highest total collection"
   ]
  },
  {
   "cell_type": "markdown",
   "metadata": {},
   "source": [
    "*Final inferences*<br>\n",
    "As the count of the violation code 21 is high so amount collected also is high eventhough the average fineis 50 whereas for<br>\n",
    "violation codes 36 and 38 it is 55.<br>\n",
    "Spring season contains highest tickets followed by winter.<br>\n",
    "8AM to 12PM seems to be bad one having high tickets*"
   ]
  },
  {
   "cell_type": "code",
   "execution_count": null,
   "metadata": {},
   "outputs": [],
   "source": []
  }
 ],
 "metadata": {
  "kernelspec": {
   "display_name": "PySpark",
   "language": "python",
   "name": "pyspark"
  },
  "language_info": {
   "codemirror_mode": {
    "name": "ipython",
    "version": 3
   },
   "file_extension": ".py",
   "mimetype": "text/x-python",
   "name": "python",
   "nbconvert_exporter": "python",
   "pygments_lexer": "ipython3",
   "version": "3.6.5"
  }
 },
 "nbformat": 4,
 "nbformat_minor": 2
}
